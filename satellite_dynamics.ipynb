{
 "cells": [
  {
   "cell_type": "code",
   "execution_count": 4,
   "id": "cf1c014c-c532-434d-a462-0f1568c1e2cf",
   "metadata": {},
   "outputs": [],
   "source": [
    "import numpy as np\n",
    "import matplotlib.pyplot as plt\n",
    "\n",
    "from pydrake import symbolic\n",
    "from pydrake.all import LeafSystem\n",
    "from pydrake.systems.analysis import Simulator\n",
    "from pydrake.systems.framework import DiagramBuilder\n",
    "from pydrake.systems.primitives import LogVectorOutput\n"
   ]
  },
  {
   "cell_type": "code",
   "execution_count": 6,
   "id": "e962d5cd",
   "metadata": {},
   "outputs": [],
   "source": [
    "# Spacecraft Parameters\n",
    "\n",
    "# Inertial properties\n",
    "J = np.diag([100, 200, 300]) # kg*m^2\n",
    "Jinv = np.linalg.inv(J)\n",
    "\n",
    "# Torque limits\n",
    "tau_max = np.array([10, 10, 10]) # N*m\n",
    "\n",
    "# Initial state vector\n",
    "x0 = np.array([0, 0, 0, 0.5, 0.5, 0.5, 0.5]) # [w_x, w_y, w_z, q_w, q_x, q_y, q_z]\n",
    "# Final state vector\n",
    "xn = np.array([0, 0, 0, 0.0258, 0.0258, 0.0258, 0.999]) # [w_x, w_y, w_z, q_w, q_x, q_y, q_z]\n",
    "\n",
    "# Camera vector\n",
    "c = np.array([0, 0, 1]) # Boresight along z\n",
    "# Sun vector\n",
    "s = np.array([0.75, 0.433, 0.5])"
   ]
  },
  {
   "cell_type": "code",
   "execution_count": 17,
   "id": "579901f7",
   "metadata": {},
   "outputs": [],
   "source": [
    "# Helper functions\n",
    "def qdot_matrix(q):\n",
    "    qw, qx, qy, qz = q\n",
    "    return np.array([\n",
    "        [-qx, -qy, -qz],\n",
    "        [qw, -qz, qy],\n",
    "        [qz, qw, -qx],\n",
    "        [-qy, qx, qw]\n",
    "    ])\n",
    "\n",
    "def euler_eqn(w, u):\n",
    "    return Jinv @ (u - np.cross(w, J @ w))\n",
    "\n",
    "def qdot(q, w):\n",
    "    return 0.5 * qdot_matrix(q) @ w\n",
    "\n",
    "def qspace(q):\n",
    "    return np.array([q[4]/q[3], q[5]/q[3], q[6]/q[3]])"
   ]
  },
  {
   "cell_type": "code",
   "execution_count": 8,
   "id": "4f849304",
   "metadata": {},
   "outputs": [],
   "source": [
    "# x = [wx, wy, wz, qw, qx, qy, qz]\n",
    "def satellite_continuous_dynamics(x, u):\n",
    "    w = x[:3]\n",
    "    q = x[3:]\n",
    "\n",
    "    w_dot = euler_eqn(w, u)\n",
    "    q_dot = qdot(q, w)\n",
    "\n",
    "    return np.concatenate([w_dot, q_dot])\n",
    "\n",
    "# Implicit Euler integration for use with solver\n",
    "def satellite_discrete_dynamics(x, x_next, u, time_step):\n",
    "    x_dot = satellite_continuous_dynamics(x_next, u)\n",
    "    residuals = x_next - x - time_step * x_dot\n",
    "    \n",
    "    return residuals"
   ]
  },
  {
   "cell_type": "code",
   "execution_count": 9,
   "id": "9feeaab1",
   "metadata": {},
   "outputs": [],
   "source": [
    "# Not actually needed for optimizer\n",
    "class SpacecraftDynamics(LeafSystem):\n",
    "    def __init__(self):\n",
    "        LeafSystem.__init__(self)\n",
    "\n",
    "        # Declare states\n",
    "        state_index = self.DeclareContinuousState(7) # 7 states\n",
    "        self.DeclareStateOutputPort(\"y\", state_index) # 7 outputs\n",
    "        self.DeclareVectorInputPort(\"u\", 3)  # 3 inputs\n",
    "    \n",
    "    def DoCalcTimeDerivatives(self, context, derivatives):\n",
    "        # Extract the state\n",
    "        x = context.get_continuous_state_vector().CopyToVector()\n",
    "        # Extract the input\n",
    "        u = self.EvalVectorInput(context, 0).CopyToVector()\n",
    "        # Compute the time derivative\n",
    "        xdot = self.dynamics(x, u)\n",
    "\n",
    "        # Set the time derivative of the state\n",
    "        derivatives.get_mutable_vector().SetFromVector(xdot)\n",
    "\n",
    "    def dynamics(self, x, u):\n",
    "        # Define the dynamics of the system\n",
    "        # xdot = f(x, u)\n",
    "       \n",
    "        xdot = satellite_continuous_dynamics(x, u)\n",
    "\n",
    "        return xdot\n",
    "    \n",
    "continuous_system = SpacecraftDynamics()"
   ]
  },
  {
   "cell_type": "code",
   "execution_count": 24,
   "id": "9f057a7c",
   "metadata": {},
   "outputs": [
    {
     "name": "stdout",
     "output_type": "stream",
     "text": [
      "(7, 106)\n",
      "106\n"
     ]
    },
    {
     "data": {
      "image/png": "[encoded data removed]",
      "text/plain": [
       "<Figure size 640x480 with 1 Axes>"
      ]
     },
     "metadata": {},
     "output_type": "display_data"
    }
   ],
   "source": [
    "# Create a simple block diagram containing our system.\n",
    "builder = DiagramBuilder()\n",
    "system = builder.AddSystem(SpacecraftDynamics())\n",
    "builder.ExportInput(system.get_input_port())\n",
    "\n",
    "logger = LogVectorOutput(system.get_output_port(0), builder)\n",
    "diagram = builder.Build()\n",
    "\n",
    "# Set the initial conditions, x(0).\n",
    "context = diagram.CreateDefaultContext()\n",
    "context.SetContinuousState(np.zeros(7))\n",
    "\n",
    "diagram.get_input_port(0).FixValue(context, [0, 0, 0.1])\n",
    "\n",
    "# Create the simulator, and simulate for 10 seconds.\n",
    "simulator = Simulator(diagram, context)\n",
    "simulator.AdvanceTo(10)\n",
    "\n",
    "# Plot the results.\n",
    "log = logger.FindLog(context)\n",
    "print(log.data().shape)\n",
    "plt.figure()\n",
    "plt.plot(log.sample_times(), log.data().transpose())\n",
    "plt.xlabel('t')\n",
    "plt.ylabel('y(t)');\n",
    "\n",
    "# Calculate q space\n",
    "qspace_vec = [qspace(x) for x in log.data().transpose()]\n",
    "print(len(qspace_vec))"
   ]
  },
  {
   "cell_type": "code",
   "execution_count": null,
   "id": "a3ffb59f",
   "metadata": {},
   "outputs": [],
   "source": []
  }
 ],
 "metadata": {
  "kernelspec": {
   "display_name": "Python 3 (ipykernel)",
   "language": "python",
   "name": "python3"
  },
  "language_info": {
   "codemirror_mode": {
    "name": "ipython",
    "version": 3
   },
   "file_extension": ".py",
   "mimetype": "text/x-python",
   "name": "python",
   "nbconvert_exporter": "python",
   "pygments_lexer": "ipython3",
   "version": "3.10.12"
  }
 },
 "nbformat": 4,
 "nbformat_minor": 5
}
