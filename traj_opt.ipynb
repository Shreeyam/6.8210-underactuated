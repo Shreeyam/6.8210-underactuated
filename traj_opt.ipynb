{
 "cells": [
  {
   "cell_type": "code",
   "execution_count": null,
   "metadata": {},
   "outputs": [],
   "source": [
    "from trajopt import *"
   ]
  },
  {
   "cell_type": "code",
   "execution_count": null,
   "metadata": {},
   "outputs": [],
   "source": [
    "# Test case 1 -- almost replicating paper, working nonlinear example\n",
    "\n",
    "J = np.diag([100, 100, 100]) # kg*m^2\n",
    "x0 = np.array([0, 0, 0, 0.5, 0.5, 0.5, 0.5]) # [w_x, w_y, w_z, q_w, q_x, q_y, q_z]\n",
    "xn = np.array([0, 0, 0, 0.0258, 0.0258, 0.0258, 0.999]) # [w_x, w_y, w_z, q_w, q_x, q_y, q_z]\n",
    "c = np.array([0, 0, 1]) # Boresight along z\n",
    "s = np.array([0.75, 0.433, 0.5])\n",
    "dt = 0.05\n",
    "N = 100\n",
    "abstol = 1e-3\n",
    "\n",
    "trajectory = optimize_trajectory_nonlinear(x0, xn, dt, N, J, attiude_constraint=True, avoidance_angle=40, c=c, s=s)"
   ]
  }
 ],
 "metadata": {
  "language_info": {
   "name": "python"
  }
 },
 "nbformat": 4,
 "nbformat_minor": 2
}
