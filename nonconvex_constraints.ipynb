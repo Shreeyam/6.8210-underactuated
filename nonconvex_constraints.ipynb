{
 "cells": [
  {
   "cell_type": "markdown",
   "metadata": {},
   "source": [
    "I made this notebook moreso as a scratch pad to prototype the nonconvex constraints"
   ]
  },
  {
   "cell_type": "code",
   "execution_count": null,
   "metadata": {},
   "outputs": [],
   "source": [
    "import numpy as np\n",
    "\n",
    "#def R()\n",
    "\n",
    "def J():\n",
    "    J1 = 1\n",
    "    J2 = 1\n",
    "    J3 = 1\n",
    "    return np.array([[J1,0,0],[0,J2,0],[0,0,J3]])\n",
    "\n",
    "def F(q, J, deltaT): #assuming their lower left and top right entries are wrong --\n",
    "    q1=q[0] #can shuffle these around if we please to change convention\n",
    "    q2=q[1]\n",
    "    q3=q[2]\n",
    "    q4=q[3]\n",
    "\n",
    "    R = deltaT/2 * np.array([[-q4,q3,-q2],[-q3,-q4,q1],[q2,-q1,-q4],[q1,q2,q3]])\n",
    "    F = np.block([[-np.identity(3), J, np.zeros((3,4))],[np.zeros((4, 3)),R, np.identity(4)]])\n",
    "    return F\n",
    "\n",
    "def G1():\n",
    "    G1 = np.block([[np.identity(3), np.zeros((3,7))]])\n",
    "    return G1\n",
    "\n",
    "def G2():\n",
    "    G2 = np.block([[np.zeros((3,3)),np.identity(3), np.zeros((3,4))]])\n",
    "    return G2\n",
    "\n",
    "def Q(qf):\n",
    "    qf1=qf[0] #can shuffle these around if we please to change convention\n",
    "    qf2=qf[1]\n",
    "    qf3=qf[2]\n",
    "    qf4=qf[3]\n",
    "\n",
    "    Q = np.array([[qf4,qf3,-qf2,-qf1],[-qf3,qf4,qf1,-qf2],[qf2,-qf1,qf4,-qf3],[qf1,qf2,qf3,qf4]])\n",
    "    return Q\n"
   ]
  },
  {
   "cell_type": "markdown",
   "metadata": {},
   "source": [
    "For Shreeyam: I am halted at writing x(k) and y(k) because I am confused by how we are going to feed these things to the optimizer when they depend on future time steps."
   ]
  },
  {
   "cell_type": "markdown",
   "metadata": {},
   "source": []
  }
 ],
 "metadata": {
  "language_info": {
   "name": "python"
  }
 },
 "nbformat": 4,
 "nbformat_minor": 2
}
